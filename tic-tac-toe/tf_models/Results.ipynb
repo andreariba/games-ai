{
 "cells": [
  {
   "cell_type": "code",
   "execution_count": 81,
   "metadata": {},
   "outputs": [],
   "source": [
    "from libs.TicTacToe import TicTacToe\n",
    "import numpy as np\n",
    "import random\n",
    "import pandas as pd\n",
    "import matplotlib.pyplot as plt\n",
    "import tensorflow as tf"
   ]
  },
  {
   "cell_type": "code",
   "execution_count": 3,
   "metadata": {},
   "outputs": [],
   "source": [
    "model = tf.keras.models.load_model(\"saved_model/alpha_zero_model\")"
   ]
  },
  {
   "cell_type": "code",
   "execution_count": 23,
   "metadata": {},
   "outputs": [],
   "source": [
    "n_games = 100"
   ]
  },
  {
   "cell_type": "markdown",
   "metadata": {},
   "source": [
    "# Random X vs random O"
   ]
  },
  {
   "cell_type": "code",
   "execution_count": 22,
   "metadata": {},
   "outputs": [],
   "source": [
    "winners_random = []\n",
    "\n",
    "for n in range(n_games):\n",
    "    \n",
    "    ttt = TicTacToe()\n",
    "\n",
    "    while ttt.status==\"Ongoing\":\n",
    "\n",
    "        valid_moves = ttt.next_moves()\n",
    "        new_board = random.choice(valid_moves)\n",
    "        ttt.play(new_board)\n",
    "        #print(np.reshape(ttt.board, (3,3)),\"\\n\")\n",
    "        if len(valid_moves)==0:\n",
    "            break\n",
    "\n",
    "    winners_random.append(ttt.winner)"
   ]
  },
  {
   "cell_type": "markdown",
   "metadata": {},
   "source": [
    "# AI plays X vs random O"
   ]
  },
  {
   "cell_type": "code",
   "execution_count": 20,
   "metadata": {},
   "outputs": [
    {
     "name": "stdout",
     "output_type": "stream",
     "text": [
      "[[0. 0. 0.]\n",
      " [0. 0. 1.]\n",
      " [0. 0. 0.]] \n",
      "\n",
      "[[-1.  0.  0.]\n",
      " [ 0.  0.  1.]\n",
      " [ 0.  0.  0.]] \n",
      "\n",
      "[[-1.  0.  0.]\n",
      " [ 1.  0.  1.]\n",
      " [ 0.  0.  0.]] \n",
      "\n",
      "[[-1. -1.  0.]\n",
      " [ 1.  0.  1.]\n",
      " [ 0.  0.  0.]] \n",
      "\n",
      "[[-1. -1.  1.]\n",
      " [ 1.  0.  1.]\n",
      " [ 0.  0.  0.]] \n",
      "\n",
      "[[-1. -1.  1.]\n",
      " [ 1.  0.  1.]\n",
      " [ 0.  0. -1.]] \n",
      "\n",
      "[[-1. -1.  1.]\n",
      " [ 1.  1.  1.]\n",
      " [ 0.  0. -1.]] \n",
      "\n",
      "[Winner]: 1\n"
     ]
    }
   ],
   "source": [
    "ttt = TicTacToe()\n",
    "\n",
    "while ttt.status==\"Ongoing\":\n",
    "\n",
    "    player = ttt.next_player()\n",
    "\n",
    "    # AI plays X \n",
    "    if player == 1:\n",
    "        new_board = ttt.board.copy()\n",
    "        state = ttt.get_board_from_player(1)\n",
    "        probs, value = model.predict(state[np.newaxis,:])\n",
    "        #print(probs, value)\n",
    "        action = np.argmax(probs.flatten())\n",
    "        new_board[action] = 1\n",
    "        #ttt.next_state(ttt.board, player=1, action=action)\n",
    "\n",
    "    # random plays O\n",
    "    elif player == -1:\n",
    "        valid_moves = ttt.next_moves()\n",
    "        new_board = random.choice(valid_moves)\n",
    "\n",
    "    # play\n",
    "    ttt.play(new_board)\n",
    "\n",
    "    ttt.check_if_winner(player)\n",
    "    print(np.reshape(ttt.board, (3,3)),\"\\n\")\n",
    "    valid_moves = ttt.next_moves()\n",
    "    if ttt.status!=\"Ongoing\":\n",
    "        break\n",
    "\n",
    "print(\"[Winner]:\",ttt.winner)"
   ]
  },
  {
   "cell_type": "code",
   "execution_count": 42,
   "metadata": {},
   "outputs": [],
   "source": [
    "winners_AI_X = []\n",
    "\n",
    "for n in range(n_games):\n",
    "\n",
    "    ttt = TicTacToe()\n",
    "\n",
    "    while ttt.status==\"Ongoing\":\n",
    "\n",
    "        player = ttt.next_player()\n",
    "\n",
    "        # AI plays X \n",
    "        if player == 1:\n",
    "            new_board = ttt.board.copy()\n",
    "            state = ttt.get_board_from_player(1)\n",
    "            probs, value = model.predict(state[np.newaxis,:])\n",
    "            #print(probs, value)\n",
    "            action = np.argmax(probs.flatten())\n",
    "            new_board[action] = 1\n",
    "            #ttt.next_state(ttt.board, player=1, action=action)\n",
    "        \n",
    "        # random plays O\n",
    "        elif player == -1:\n",
    "            valid_moves = ttt.next_moves()\n",
    "            new_board = random.choice(valid_moves)\n",
    "        \n",
    "        # play\n",
    "        ttt.play(new_board)\n",
    "\n",
    "        ttt.check_if_winner(player)\n",
    "        #print(np.reshape(ttt.board, (3,3)),\"\\n\")\n",
    "        valid_moves = ttt.next_moves()\n",
    "        if ttt.status!=\"Ongoing\":\n",
    "            break\n",
    "\n",
    "    #print(\"[Winner]:\",ttt.winner)\n",
    "    winners_AI_X.append(ttt.winner)"
   ]
  },
  {
   "cell_type": "markdown",
   "metadata": {},
   "source": [
    "# AI plays O vs random X"
   ]
  },
  {
   "cell_type": "code",
   "execution_count": 21,
   "metadata": {},
   "outputs": [],
   "source": [
    "winners_AI_O = []\n",
    "\n",
    "for n in range(n_games):\n",
    "\n",
    "    ttt = TicTacToe()\n",
    "\n",
    "    while ttt.status==\"Ongoing\":\n",
    "\n",
    "        player = ttt.next_player()\n",
    "\n",
    "        # AI plays X \n",
    "        if player == -1:\n",
    "            new_board = ttt.board.copy()\n",
    "            state = ttt.get_board_from_player(-1)\n",
    "            probs, value = model.predict(state[np.newaxis,:])\n",
    "            #print(probs, value)\n",
    "            action = np.argmax(probs.flatten())\n",
    "            new_board[action] = -1\n",
    "            #ttt.next_state(ttt.board, player=1, action=action)\n",
    "        \n",
    "        # random plays O\n",
    "        elif player == 1:\n",
    "            valid_moves = ttt.next_moves()\n",
    "            new_board = random.choice(valid_moves)\n",
    "        \n",
    "        # play\n",
    "        ttt.play(new_board)\n",
    "\n",
    "        ttt.check_if_winner(player)\n",
    "        #print(np.reshape(ttt.board, (3,3)),\"\\n\")\n",
    "        valid_moves = ttt.next_moves()\n",
    "        if ttt.status!=\"Ongoing\":\n",
    "            break\n",
    "\n",
    "    #print(\"[Winner]:\",ttt.winner)\n",
    "    winners_AI_O.append(ttt.winner)"
   ]
  },
  {
   "cell_type": "markdown",
   "metadata": {},
   "source": [
    "# AI vs AI"
   ]
  },
  {
   "cell_type": "code",
   "execution_count": 52,
   "metadata": {},
   "outputs": [],
   "source": [
    "winners_AI_AI = []\n",
    "\n",
    "for n in range(n_games):\n",
    "\n",
    "    ttt = TicTacToe()\n",
    "\n",
    "    while ttt.status==\"Ongoing\":\n",
    "\n",
    "        player = ttt.next_player()\n",
    "\n",
    "        # AI plays X \n",
    "        if player == 1:\n",
    "            new_board = ttt.board.copy()\n",
    "            state = ttt.get_board_from_player(1)\n",
    "            probs, value = model.predict(state[np.newaxis,:])\n",
    "            #print(probs, value)\n",
    "            action = np.argmax(probs.flatten())\n",
    "            new_board[action] = 1\n",
    "            #ttt.next_state(ttt.board, player=1, action=action)\n",
    "        \n",
    "        # random plays O\n",
    "        elif player == -1:\n",
    "            new_board = ttt.board.copy()\n",
    "            state = ttt.get_board_from_player(-1)\n",
    "            probs, value = model.predict(state[np.newaxis,:])\n",
    "            #print(probs, value)\n",
    "            action = np.argmax(probs.flatten())\n",
    "            new_board[action] = -1\n",
    "            #ttt.next_state(ttt.board, player=1, action=action)\n",
    "        \n",
    "        # play\n",
    "        ttt.play(new_board)\n",
    "\n",
    "        ttt.check_if_winner(player)\n",
    "        #print(np.reshape(ttt.board, (3,3)),\"\\n\")\n",
    "        valid_moves = ttt.next_moves()\n",
    "        if ttt.status!=\"Ongoing\":\n",
    "            break\n",
    "\n",
    "    #print(\"[Winner]:\",ttt.winner)\n",
    "    winners_AI_AI.append(ttt.winner)"
   ]
  },
  {
   "cell_type": "markdown",
   "metadata": {},
   "source": [
    "# Final statistics"
   ]
  },
  {
   "cell_type": "code",
   "execution_count": 53,
   "metadata": {},
   "outputs": [],
   "source": [
    "outcomes = {'O':-1,'draw':0,'X':1}"
   ]
  },
  {
   "cell_type": "code",
   "execution_count": 57,
   "metadata": {},
   "outputs": [],
   "source": [
    "df_AI_AI = pd.DataFrame( [(name, winners_AI_AI.count(outcome)) for name,outcome in outcomes.items()], columns=['winner','AI_AI']).set_index('winner')\n",
    "df_AI_X = pd.DataFrame( [(name, winners_AI_X.count(outcome)) for name,outcome in outcomes.items()], columns=['winner','AI_X']).set_index('winner')\n",
    "df_AI_O = pd.DataFrame( [(name, winners_AI_O.count(outcome)) for name,outcome in outcomes.items()], columns=['winner','AI_O']).set_index('winner')\n",
    "df_random = pd.DataFrame( [(name, winners_random.count(outcome)) for name,outcome in outcomes.items()], columns=['winner','random']).set_index('winner')"
   ]
  },
  {
   "cell_type": "code",
   "execution_count": 58,
   "metadata": {},
   "outputs": [],
   "source": [
    "df_stats = pd.concat([df_random, df_AI_X, df_AI_O, df_AI_AI], axis=1)"
   ]
  },
  {
   "cell_type": "code",
   "execution_count": 95,
   "metadata": {},
   "outputs": [
    {
     "data": {
      "image/png": "[encoded data removed]",
      "text/plain": [
       "<Figure size 720x432 with 1 Axes>"
      ]
     },
     "metadata": {
      "needs_background": "light"
     },
     "output_type": "display_data"
    }
   ],
   "source": [
    "plt.rcParams.update({'font.size': 22})\n",
    "fig, ax = plt.subplots(figsize=(10,6))\n",
    "ax = df_stats.T.plot.bar(stacked=True, ax=ax, color=['black','white','red'], edgecolor = 'black')\n",
    "ax.set(title=\"Outcomes\",ylabel='Winner',xticklabels=['random\\nvs\\nrandom', 'AI X\\nvs\\nrandom O','random X\\nvs\\nAI O', 'AI vs AI']);\n",
    "ax.set_xticklabels(ax.get_xticklabels(),rotation=0)\n",
    "ax.legend(bbox_to_anchor=(1.01, 1.01))\n",
    "plt.savefig('AlphaZero_results.svg')"
   ]
  },
  {
   "cell_type": "code",
   "execution_count": null,
   "metadata": {},
   "outputs": [],
   "source": []
  }
 ],
 "metadata": {
  "kernelspec": {
   "display_name": "Python 3",
   "language": "python",
   "name": "python3"
  },
  "language_info": {
   "codemirror_mode": {
    "name": "ipython",
    "version": 3
   },
   "file_extension": ".py",
   "mimetype": "text/x-python",
   "name": "python",
   "nbconvert_exporter": "python",
   "pygments_lexer": "ipython3",
   "version": "3.8.5"
  }
 },
 "nbformat": 4,
 "nbformat_minor": 4
}
