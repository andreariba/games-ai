{
 "cells": [
  {
   "cell_type": "code",
   "execution_count": 1,
   "metadata": {},
   "outputs": [],
   "source": [
    "import tensorflow as tf\n",
    "import tensorflowjs as tfjs"
   ]
  },
  {
   "cell_type": "code",
   "execution_count": 7,
   "metadata": {},
   "outputs": [
    {
     "data": {
      "text/plain": [
       "'2.7.0'"
      ]
     },
     "execution_count": 7,
     "metadata": {},
     "output_type": "execute_result"
    }
   ],
   "source": [
    "tf.__version__"
   ]
  },
  {
   "cell_type": "code",
   "execution_count": 6,
   "metadata": {},
   "outputs": [
    {
     "data": {
      "text/plain": [
       "'3.19.0'"
      ]
     },
     "execution_count": 6,
     "metadata": {},
     "output_type": "execute_result"
    }
   ],
   "source": [
    "tfjs.__version__"
   ]
  },
  {
   "cell_type": "code",
   "execution_count": 2,
   "metadata": {},
   "outputs": [],
   "source": [
    "model = tf.keras.models.load_model('saved_model/alpha_zero_model/')"
   ]
  },
  {
   "cell_type": "code",
   "execution_count": 8,
   "metadata": {},
   "outputs": [
    {
     "name": "stdout",
     "output_type": "stream",
     "text": [
      "Model: \"tictactoe_model\"\n",
      "__________________________________________________________________________________________________\n",
      " Layer (type)                   Output Shape         Param #     Connected to                     \n",
      "==================================================================================================\n",
      " input_2 (InputLayer)           [(None, 9)]          0           []                               \n",
      "                                                                                                  \n",
      " tf.__operators__.add_1 (TFOpLa  (None, 9)           0           ['input_2[0][0]']                \n",
      " mbda)                                                                                            \n",
      "                                                                                                  \n",
      " tf.cast_2 (TFOpLambda)         (None, 9)            0           ['tf.__operators__.add_1[0][0]'] \n",
      "                                                                                                  \n",
      " tf.one_hot_1 (TFOpLambda)      (None, 9, 3)         0           ['tf.cast_2[0][0]']              \n",
      "                                                                                                  \n",
      " tf.cast_3 (TFOpLambda)         (None, 9, 3)         0           ['tf.one_hot_1[0][0]']           \n",
      "                                                                                                  \n",
      " tf.reshape_1 (TFOpLambda)      (None, 3, 3, 3)      0           ['tf.cast_3[0][0]']              \n",
      "                                                                                                  \n",
      " conv2d_2 (Conv2D)              (None, 1, 1, 243)    6804        ['tf.reshape_1[0][0]']           \n",
      "                                                                                                  \n",
      " batch_normalization_4 (BatchNo  (None, 1, 1, 243)   972         ['conv2d_2[0][0]']               \n",
      " rmalization)                                                                                     \n",
      "                                                                                                  \n",
      " re_lu_3 (ReLU)                 (None, 1, 1, 243)    0           ['batch_normalization_4[0][0]']  \n",
      "                                                                                                  \n",
      " conv2d_3 (Conv2D)              (None, 1, 1, 243)    59292       ['re_lu_3[0][0]']                \n",
      "                                                                                                  \n",
      " batch_normalization_5 (BatchNo  (None, 1, 1, 243)   972         ['conv2d_3[0][0]']               \n",
      " rmalization)                                                                                     \n",
      "                                                                                                  \n",
      " flatten_5 (Flatten)            (None, 9)            0           ['input_2[0][0]']                \n",
      "                                                                                                  \n",
      " flatten_4 (Flatten)            (None, 243)          0           ['batch_normalization_5[0][0]']  \n",
      "                                                                                                  \n",
      " tf.concat_1 (TFOpLambda)       (None, 252)          0           ['flatten_5[0][0]',              \n",
      "                                                                  'flatten_4[0][0]']              \n",
      "                                                                                                  \n",
      " residual_tower (ReLU)          (None, 252)          0           ['tf.concat_1[0][0]']            \n",
      "                                                                                                  \n",
      " tf.__operators__.getitem_3 (Sl  (None, 252, 1)      0           ['residual_tower[0][0]']         \n",
      " icingOpLambda)                                                                                   \n",
      "                                                                                                  \n",
      " tf.__operators__.getitem_2 (Sl  (None, 252, 1)      0           ['residual_tower[0][0]']         \n",
      " icingOpLambda)                                                                                   \n",
      "                                                                                                  \n",
      " conv1d_3 (Conv1D)              (None, 252, 1)       2           ['tf.__operators__.getitem_3[0][0\n",
      "                                                                 ]']                              \n",
      "                                                                                                  \n",
      " conv1d_2 (Conv1D)              (None, 252, 2)       4           ['tf.__operators__.getitem_2[0][0\n",
      "                                                                 ]']                              \n",
      "                                                                                                  \n",
      " batch_normalization_7 (BatchNo  (None, 252, 1)      4           ['conv1d_3[0][0]']               \n",
      " rmalization)                                                                                     \n",
      "                                                                                                  \n",
      " batch_normalization_6 (BatchNo  (None, 252, 2)      8           ['conv1d_2[0][0]']               \n",
      " rmalization)                                                                                     \n",
      "                                                                                                  \n",
      " re_lu_5 (ReLU)                 (None, 252, 1)       0           ['batch_normalization_7[0][0]']  \n",
      "                                                                                                  \n",
      " re_lu_4 (ReLU)                 (None, 252, 2)       0           ['batch_normalization_6[0][0]']  \n",
      "                                                                                                  \n",
      " flatten_7 (Flatten)            (None, 252)          0           ['re_lu_5[0][0]']                \n",
      "                                                                                                  \n",
      " flatten_6 (Flatten)            (None, 504)          0           ['re_lu_4[0][0]']                \n",
      "                                                                                                  \n",
      " dense_1 (Dense)                (None, 256)          64768       ['flatten_7[0][0]']              \n",
      "                                                                                                  \n",
      " policy (Dense)                 (None, 9)            4545        ['flatten_6[0][0]']              \n",
      "                                                                                                  \n",
      " value (Dense)                  (None, 1)            257         ['dense_1[0][0]']                \n",
      "                                                                                                  \n",
      "==================================================================================================\n",
      "Total params: 137,628\n",
      "Trainable params: 136,650\n",
      "Non-trainable params: 978\n",
      "__________________________________________________________________________________________________\n"
     ]
    }
   ],
   "source": [
    "model.summary()"
   ]
  },
  {
   "cell_type": "code",
   "execution_count": 4,
   "metadata": {},
   "outputs": [],
   "source": [
    "tfjs.converters.save_keras_model(model, \"TTT_models_js/alpha_zero_model/\")"
   ]
  }
 ],
 "metadata": {
  "kernelspec": {
   "display_name": "Python 3",
   "language": "python",
   "name": "python3"
  },
  "language_info": {
   "codemirror_mode": {
    "name": "ipython",
    "version": 3
   },
   "file_extension": ".py",
   "mimetype": "text/x-python",
   "name": "python",
   "nbconvert_exporter": "python",
   "pygments_lexer": "ipython3",
   "version": "3.8.5"
  }
 },
 "nbformat": 4,
 "nbformat_minor": 4
}
