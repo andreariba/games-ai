{
 "cells": [
  {
   "cell_type": "code",
   "execution_count": 2,
   "metadata": {},
   "outputs": [],
   "source": [
    "import numpy as np"
   ]
  },
  {
   "cell_type": "code",
   "execution_count": null,
   "metadata": {},
   "outputs": [],
   "source": []
  },
  {
   "cell_type": "code",
   "execution_count": 96,
   "metadata": {},
   "outputs": [],
   "source": [
    "class FourInARow:\n",
    "\n",
    "    def __init__(self):\n",
    "        \n",
    "        self.arraySize = arraySize = 42\n",
    "        self.width = width = 7\n",
    "\n",
    "        self.board = np.zeros(arraySize)\n",
    "        \n",
    "        self.winningCombinations = np.array([\n",
    "            [0, 1, 2, 3],\n",
    "            [0, width, 2 * width, 3 * width],\n",
    "            [0, width + 1, 2 * width + 2, 3 * width + 3],\n",
    "            [3, width + 2, 2 * width + 1, 3 * width]\n",
    "        ])\n",
    "        \n",
    "    \n",
    "    def get_action_size(self):\n",
    "        return self.width\n",
    "\n",
    "    def get_available_actions(self, board):\n",
    "        actions = np.zeros(self.width)\n",
    "        for i in range(self.width):\n",
    "            if np.any(board[i::self.width]==0):\n",
    "                actions[i] = 1\n",
    "        return actions\n",
    "    \n",
    "    def get_board_from_player(self, player):\n",
    "        return self.board * player\n",
    "\n",
    "    def check_if_winner(self, player):\n",
    "        \n",
    "        arraySize = self.arraySize\n",
    "        width = self.width\n",
    "        \n",
    "        for combo in self.winningCombinations:\n",
    "\n",
    "            for pos in range(arraySize):\n",
    "                \n",
    "                #print(combo, pos)\n",
    "                shifted_combo = combo + pos\n",
    "                combo_rows = shifted_combo // width\n",
    "\n",
    "                # check if i'm already outside the board\n",
    "                if max(combo_rows) >= arraySize // width: continue\n",
    "\n",
    "                # exclude combinations spanning the wrong numbers of rows\n",
    "                differenceRows = max(combo_rows) - min(combo_rows)\n",
    "                if differenceRows != 3 and differenceRows != 0: continue\n",
    "\n",
    "                #console.log(pos, shifted_combo, differenceRows)\n",
    "\n",
    "                #console.log(shifted_combo.every((el) => game[el] === player))\n",
    "                if (np.array([self.board[el] for el in shifted_combo]) == player).all():\n",
    "                    #print(player, \" wins with \", shifted_combo)\n",
    "                    return True\n",
    "        \n",
    "        return False\n",
    "    \n",
    "    def play(self, board):\n",
    "        self.board = board.copy()\n",
    "           \n",
    "    def get_reward_for_player(self, board, player):\n",
    "        arraySize = self.arraySize\n",
    "        width = self.width\n",
    "        \n",
    "        for combo in self.winningCombinations:\n",
    "\n",
    "            for pos in range(arraySize):\n",
    "                \n",
    "                shifted_combo = combo + pos\n",
    "                combo_rows = shifted_combo // width\n",
    "\n",
    "                # check if i'm already outside the board\n",
    "                if max(combo_rows) >= arraySize // width: continue\n",
    "\n",
    "                # exclude combinations spanning the wrong numbers of rows\n",
    "                differenceRows = max(combo_rows) - min(combo_rows)\n",
    "                if differenceRows != 3 and differenceRows != 0: continue\n",
    "\n",
    "                if (np.array([board[el] for el in shifted_combo]) == player).all():\n",
    "                    return 1.0\n",
    "                elif (np.array([board[el] for el in shifted_combo]) == -1*player).all():\n",
    "                    return -1.0\n",
    "                \n",
    "        if np.any(board==0):\n",
    "            return None\n",
    "        \n",
    "        return 0\n",
    "    \n",
    "    def next_player(self):\n",
    "        board = list(self.board)\n",
    "        if board.count(1) == board.count(-1):\n",
    "            self.player = 1\n",
    "        else:\n",
    "            self.player = -1\n",
    "        return self.player\n",
    "    \n",
    "    def next_state(self, board, player, action):\n",
    "        self.board = board\n",
    "        for pos in range(35+action,-1,-self.width):\n",
    "            if self.board[pos]==0:\n",
    "                self.board[pos] = player\n",
    "                break\n",
    "        player = self.next_player()\n",
    "        return self.board, player"
   ]
  },
  {
   "cell_type": "markdown",
   "metadata": {},
   "source": [
    "coordinates"
   ]
  },
  {
   "cell_type": "code",
   "execution_count": 97,
   "metadata": {},
   "outputs": [
    {
     "data": {
      "text/plain": [
       "array([[ 0,  1,  2,  3,  4,  5,  6],\n",
       "       [ 7,  8,  9, 10, 11, 12, 13],\n",
       "       [14, 15, 16, 17, 18, 19, 20],\n",
       "       [21, 22, 23, 24, 25, 26, 27],\n",
       "       [28, 29, 30, 31, 32, 33, 34],\n",
       "       [35, 36, 37, 38, 39, 40, 41]])"
      ]
     },
     "execution_count": 97,
     "metadata": {},
     "output_type": "execute_result"
    }
   ],
   "source": [
    "np.arange(42).reshape(6,7)"
   ]
  },
  {
   "cell_type": "code",
   "execution_count": 98,
   "metadata": {},
   "outputs": [],
   "source": [
    "fiar = FourInARow()"
   ]
  },
  {
   "cell_type": "markdown",
   "metadata": {},
   "source": [
    "assert the action size"
   ]
  },
  {
   "cell_type": "code",
   "execution_count": 99,
   "metadata": {},
   "outputs": [],
   "source": [
    "assert fiar.get_action_size()==7"
   ]
  },
  {
   "cell_type": "markdown",
   "metadata": {},
   "source": [
    "assert the available actions"
   ]
  },
  {
   "cell_type": "code",
   "execution_count": 100,
   "metadata": {},
   "outputs": [],
   "source": [
    "assert (fiar.get_available_actions(np.zeros(42))==np.ones(7)).all()\n",
    "assert (fiar.get_reward_for_player(np.zeros(42),1)==None)\n",
    "assert (fiar.get_reward_for_player(np.zeros(42),-1)==None)\n",
    "fiar.play(np.zeros(42))\n",
    "assert (fiar.check_if_winner(1)==False )\n",
    "assert (fiar.check_if_winner(-1)==False )\n",
    "\n",
    "\n",
    "\n",
    "assert (fiar.get_available_actions(np.ones(42))==np.zeros(7)).all()\n",
    "assert (fiar.get_reward_for_player(np.ones(42),1)==1)\n",
    "assert (fiar.get_reward_for_player(np.ones(42),-1)==-1)\n",
    "fiar.play(-1*np.ones(42))\n",
    "assert (fiar.check_if_winner(1)==False )\n",
    "assert (fiar.check_if_winner(-1)==True )"
   ]
  },
  {
   "cell_type": "code",
   "execution_count": 101,
   "metadata": {},
   "outputs": [
    {
     "name": "stdout",
     "output_type": "stream",
     "text": [
      "[[1. 0. 0. 1. 0. 0. 0.]\n",
      " [1. 0. 0. 1. 0. 0. 0.]\n",
      " [1. 0. 0. 1. 0. 0. 0.]\n",
      " [1. 0. 0. 1. 0. 0. 0.]\n",
      " [1. 0. 0. 1. 0. 0. 0.]\n",
      " [1. 1. 1. 1. 1. 1. 1.]]\n"
     ]
    }
   ],
   "source": [
    "case = np.zeros(42)\n",
    "case[-7:] = 1\n",
    "\n",
    "columns_to_fill = [0,3]\n",
    "for c in columns_to_fill:\n",
    "    case[c::7] = 1\n",
    "\n",
    "\n",
    "solution = np.ones(7)\n",
    "solution[columns_to_fill] = 0\n",
    "\n",
    "print(case.reshape(6,7))"
   ]
  },
  {
   "cell_type": "code",
   "execution_count": 102,
   "metadata": {},
   "outputs": [],
   "source": [
    "assert (fiar.get_available_actions(case)==solution).all()\n",
    "\n",
    "fiar.play(case)\n",
    "\n",
    "assert (fiar.check_if_winner(1)==True )\n",
    "assert (fiar.check_if_winner(-1)==False )\n",
    "assert (fiar.get_reward_for_player(np.ones(42),1)==1)\n",
    "assert (fiar.get_reward_for_player(np.ones(42),-1)==-1)\n",
    "\n",
    "fiar.play(case*-1)\n",
    "\n",
    "assert (fiar.check_if_winner(1)==False )\n",
    "assert (fiar.check_if_winner(-1)==True )\n",
    "assert (fiar.get_reward_for_player(-np.ones(42),1)==-1)\n",
    "assert (fiar.get_reward_for_player(-np.ones(42),-1)==1)"
   ]
  },
  {
   "cell_type": "code",
   "execution_count": 106,
   "metadata": {},
   "outputs": [
    {
     "name": "stdout",
     "output_type": "stream",
     "text": [
      "[[0. 0. 0. 0. 0. 0. 0.]\n",
      " [0. 0. 0. 0. 0. 0. 0.]\n",
      " [0. 0. 0. 0. 0. 0. 0.]\n",
      " [0. 0. 0. 0. 0. 0. 0.]\n",
      " [0. 0. 0. 0. 0. 0. 0.]\n",
      " [1. 0. 0. 0. 0. 0. 0.]]\n",
      "[[ 0.  0.  0.  0.  0.  0.  0.]\n",
      " [ 0.  0.  0.  0.  0.  0.  0.]\n",
      " [ 0.  0.  0.  0.  0.  0.  0.]\n",
      " [ 0.  0.  0.  0.  0.  0.  0.]\n",
      " [-1.  0.  0.  0.  0.  0.  0.]\n",
      " [ 1.  0.  0.  0.  0.  0.  0.]]\n",
      "[[ 0.  0.  0.  0.  0.  0.  0.]\n",
      " [ 0.  0.  0.  0.  0.  0.  0.]\n",
      " [ 0.  0.  0.  0.  0.  0.  0.]\n",
      " [ 0.  0.  0.  0.  0.  0.  0.]\n",
      " [-1.  0.  0.  0.  0.  0.  0.]\n",
      " [ 1.  0.  0.  1.  0.  0.  0.]]\n"
     ]
    }
   ],
   "source": [
    "next_player = 1\n",
    "next_state, next_player = fiar.next_state(board=np.zeros(42), player=next_player, action=0)\n",
    "print(next_state.reshape(6,7))\n",
    "\n",
    "next_state, next_player = fiar.next_state(board=next_state, player=next_player, action=0)\n",
    "print(next_state.reshape(6,7))\n",
    "\n",
    "next_state, next_player = fiar.next_state(board=next_state, player=next_player, action=3)\n",
    "print(next_state.reshape(6,7))\n",
    "\n",
    "next_state, next_player = fiar.next_state(board=next_state, player=next_player, action=2)\n",
    "print(next_state.reshape(6,7))\n",
    "\n",
    "next_state, next_player = fiar.next_state(board=next_state, player=next_player, action=3)\n",
    "print(next_state.reshape(6,7))"
   ]
  },
  {
   "cell_type": "code",
   "execution_count": null,
   "metadata": {},
   "outputs": [],
   "source": []
  },
  {
   "cell_type": "code",
   "execution_count": null,
   "metadata": {},
   "outputs": [],
   "source": []
  }
 ],
 "metadata": {
  "kernelspec": {
   "display_name": "Python 3",
   "language": "python",
   "name": "python3"
  },
  "language_info": {
   "codemirror_mode": {
    "name": "ipython",
    "version": 3
   },
   "file_extension": ".py",
   "mimetype": "text/x-python",
   "name": "python",
   "nbconvert_exporter": "python",
   "pygments_lexer": "ipython3",
   "version": "3.8.5"
  }
 },
 "nbformat": 4,
 "nbformat_minor": 4
}
