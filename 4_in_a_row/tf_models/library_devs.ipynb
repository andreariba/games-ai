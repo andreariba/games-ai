{
 "cells": [
  {
   "cell_type": "code",
   "execution_count": 1,
   "metadata": {},
   "outputs": [],
   "source": [
    "import numpy as np"
   ]
  },
  {
   "cell_type": "code",
   "execution_count": null,
   "metadata": {},
   "outputs": [],
   "source": []
  },
  {
   "cell_type": "code",
   "execution_count": 2,
   "metadata": {},
   "outputs": [],
   "source": [
    "class FourInARow:\n",
    "\n",
    "    def __init__(self):\n",
    "        \n",
    "        self.arraySize = arraySize = 42\n",
    "        self.width = width = 7\n",
    "\n",
    "        self.board = np.zeros(arraySize)\n",
    "        self.status = 'Ongoing'\n",
    "        self.winner = 0\n",
    "        \n",
    "        self.winningCombinations = np.array([\n",
    "            [0, 1, 2, 3],\n",
    "            [0, width, 2 * width, 3 * width],\n",
    "            [0, width + 1, 2 * width + 2, 3 * width + 3],\n",
    "            [3, width + 2, 2 * width + 1, 3 * width]\n",
    "        ])\n",
    "        \n",
    "    \n",
    "    def get_action_size(self):\n",
    "        return self.width\n",
    "\n",
    "    def get_available_actions(self, board):\n",
    "        actions = np.zeros(self.width)\n",
    "        for i in range(self.width):\n",
    "            if np.any(board[i::self.width]==0):\n",
    "                actions[i] = 1\n",
    "        return actions\n",
    "    \n",
    "    def get_board_from_player(self, player):\n",
    "        return self.board * player\n",
    "\n",
    "    def check_if_winner(self, player):\n",
    "        \n",
    "        arraySize = self.arraySize\n",
    "        width = self.width\n",
    "        \n",
    "        for combo in self.winningCombinations:\n",
    "\n",
    "            for pos in range(arraySize):\n",
    "                \n",
    "                #print(combo, pos)\n",
    "                shifted_combo = combo + pos\n",
    "                combo_rows = shifted_combo // width\n",
    "\n",
    "                # check if i'm already outside the board\n",
    "                if max(combo_rows) >= arraySize // width: continue\n",
    "\n",
    "                # exclude combinations spanning the wrong numbers of rows\n",
    "                differenceRows = max(combo_rows) - min(combo_rows)\n",
    "                if differenceRows != 3 and differenceRows != 0: continue\n",
    "\n",
    "                #console.log(pos, shifted_combo, differenceRows)\n",
    "\n",
    "                #console.log(shifted_combo.every((el) => game[el] === player))\n",
    "                if (np.array([self.board[el] for el in shifted_combo]) == player).all():\n",
    "                    #print(player, \" wins with \", shifted_combo)\n",
    "                    self.status = \"Winner\"\n",
    "                    self.winner = player\n",
    "                    return True\n",
    "        \n",
    "        return False\n",
    "    \n",
    "    def play(self, board):\n",
    "        self.board = board.copy()\n",
    "           \n",
    "    def get_reward_for_player(self, board, player):\n",
    "        arraySize = self.arraySize\n",
    "        width = self.width\n",
    "        \n",
    "        for combo in self.winningCombinations:\n",
    "\n",
    "            for pos in range(arraySize):\n",
    "                \n",
    "                shifted_combo = combo + pos\n",
    "                combo_rows = shifted_combo // width\n",
    "\n",
    "                # check if i'm already outside the board\n",
    "                if max(combo_rows) >= arraySize // width: continue\n",
    "\n",
    "                # exclude combinations spanning the wrong numbers of rows\n",
    "                differenceRows = max(combo_rows) - min(combo_rows)\n",
    "                if differenceRows != 3 and differenceRows != 0: continue\n",
    "\n",
    "                if (np.array([board[el] for el in shifted_combo]) == player).all():\n",
    "                    self.status = \"Winner\"\n",
    "                    self.winner = player\n",
    "                    return 1.0\n",
    "                elif (np.array([board[el] for el in shifted_combo]) == -1*player).all():\n",
    "                    self.status = \"Winner\"\n",
    "                    self.winner = -1*player\n",
    "                    return -1.0\n",
    "                \n",
    "        if np.any(board==0):\n",
    "            return None\n",
    "        \n",
    "        self.status = \"Draw\"\n",
    "        return 0\n",
    "    \n",
    "    def next_player(self):\n",
    "        board = list(self.board)\n",
    "        if board.count(1) == board.count(-1):\n",
    "            self.player = 1\n",
    "        else:\n",
    "            self.player = -1\n",
    "        return self.player\n",
    "    \n",
    "    def next_state(self, board, player, action):\n",
    "        self.board = board\n",
    "        for pos in range(35+action,-1,-self.width):\n",
    "            if self.board[pos]==0:\n",
    "                self.board[pos] = player\n",
    "                break\n",
    "        player = self.next_player()\n",
    "        return self.board, player"
   ]
  },
  {
   "cell_type": "markdown",
   "metadata": {},
   "source": [
    "coordinates"
   ]
  },
  {
   "cell_type": "code",
   "execution_count": 3,
   "metadata": {},
   "outputs": [
    {
     "data": {
      "text/plain": [
       "array([[ 0,  1,  2,  3,  4,  5,  6],\n",
       "       [ 7,  8,  9, 10, 11, 12, 13],\n",
       "       [14, 15, 16, 17, 18, 19, 20],\n",
       "       [21, 22, 23, 24, 25, 26, 27],\n",
       "       [28, 29, 30, 31, 32, 33, 34],\n",
       "       [35, 36, 37, 38, 39, 40, 41]])"
      ]
     },
     "execution_count": 3,
     "metadata": {},
     "output_type": "execute_result"
    }
   ],
   "source": [
    "np.arange(42).reshape(6,7)"
   ]
  },
  {
   "cell_type": "code",
   "execution_count": 4,
   "metadata": {},
   "outputs": [],
   "source": [
    "fiar = FourInARow()"
   ]
  },
  {
   "cell_type": "markdown",
   "metadata": {},
   "source": [
    "assert the action size"
   ]
  },
  {
   "cell_type": "code",
   "execution_count": 5,
   "metadata": {},
   "outputs": [],
   "source": [
    "assert fiar.get_action_size()==7"
   ]
  },
  {
   "cell_type": "markdown",
   "metadata": {},
   "source": [
    "assert the available actions"
   ]
  },
  {
   "cell_type": "code",
   "execution_count": 6,
   "metadata": {},
   "outputs": [],
   "source": [
    "assert (fiar.get_available_actions(np.zeros(42))==np.ones(7)).all()\n",
    "assert (fiar.get_reward_for_player(np.zeros(42),1)==None)\n",
    "assert (fiar.get_reward_for_player(np.zeros(42),-1)==None)\n",
    "fiar.play(np.zeros(42))\n",
    "assert (fiar.check_if_winner(1)==False )\n",
    "assert (fiar.check_if_winner(-1)==False )\n",
    "\n",
    "\n",
    "\n",
    "assert (fiar.get_available_actions(np.ones(42))==np.zeros(7)).all()\n",
    "assert (fiar.get_reward_for_player(np.ones(42),1)==1)\n",
    "assert (fiar.get_reward_for_player(np.ones(42),-1)==-1)\n",
    "fiar.play(-1*np.ones(42))\n",
    "assert (fiar.check_if_winner(1)==False )\n",
    "assert (fiar.check_if_winner(-1)==True )"
   ]
  },
  {
   "cell_type": "code",
   "execution_count": 7,
   "metadata": {},
   "outputs": [
    {
     "name": "stdout",
     "output_type": "stream",
     "text": [
      "[[1. 0. 0. 1. 0. 0. 0.]\n",
      " [1. 0. 0. 1. 0. 0. 0.]\n",
      " [1. 0. 0. 1. 0. 0. 0.]\n",
      " [1. 0. 0. 1. 0. 0. 0.]\n",
      " [1. 0. 0. 1. 0. 0. 0.]\n",
      " [1. 1. 1. 1. 1. 1. 1.]]\n"
     ]
    }
   ],
   "source": [
    "case = np.zeros(42)\n",
    "case[-7:] = 1\n",
    "\n",
    "columns_to_fill = [0,3]\n",
    "for c in columns_to_fill:\n",
    "    case[c::7] = 1\n",
    "\n",
    "\n",
    "solution = np.ones(7)\n",
    "solution[columns_to_fill] = 0\n",
    "\n",
    "print(case.reshape(6,7))"
   ]
  },
  {
   "cell_type": "code",
   "execution_count": 8,
   "metadata": {},
   "outputs": [],
   "source": [
    "assert (fiar.get_available_actions(case)==solution).all()\n",
    "\n",
    "fiar.play(case)\n",
    "\n",
    "assert (fiar.check_if_winner(1)==True )\n",
    "assert (fiar.check_if_winner(-1)==False )\n",
    "assert (fiar.get_reward_for_player(np.ones(42),1)==1)\n",
    "assert (fiar.get_reward_for_player(np.ones(42),-1)==-1)\n",
    "\n",
    "assert (fiar.get_board_from_player(player=1)==case).all()\n",
    "assert (fiar.get_board_from_player(player=-1)==-case).all()\n",
    "\n",
    "fiar.play(case*-1)\n",
    "\n",
    "assert (fiar.check_if_winner(1)==False )\n",
    "assert (fiar.check_if_winner(-1)==True )\n",
    "assert (fiar.get_reward_for_player(-np.ones(42),1)==-1)\n",
    "assert (fiar.get_reward_for_player(-np.ones(42),-1)==1)\n",
    "\n",
    "assert (fiar.get_board_from_player(player=1)==-case).all()\n",
    "assert (fiar.get_board_from_player(player=-1)==case).all()"
   ]
  },
  {
   "cell_type": "code",
   "execution_count": 9,
   "metadata": {},
   "outputs": [
    {
     "name": "stdout",
     "output_type": "stream",
     "text": [
      "[[0. 0. 0. 0. 0. 0. 0.]\n",
      " [0. 0. 0. 0. 0. 0. 0.]\n",
      " [0. 0. 0. 0. 0. 0. 0.]\n",
      " [0. 0. 0. 0. 0. 0. 0.]\n",
      " [0. 0. 0. 0. 0. 0. 0.]\n",
      " [1. 0. 0. 0. 0. 0. 0.]]\n",
      "[[ 0.  0.  0.  0.  0.  0.  0.]\n",
      " [ 0.  0.  0.  0.  0.  0.  0.]\n",
      " [ 0.  0.  0.  0.  0.  0.  0.]\n",
      " [ 0.  0.  0.  0.  0.  0.  0.]\n",
      " [-1.  0.  0.  0.  0.  0.  0.]\n",
      " [ 1.  0.  0.  0.  0.  0.  0.]]\n",
      "[[ 0.  0.  0.  0.  0.  0.  0.]\n",
      " [ 0.  0.  0.  0.  0.  0.  0.]\n",
      " [ 0.  0.  0.  0.  0.  0.  0.]\n",
      " [ 0.  0.  0.  0.  0.  0.  0.]\n",
      " [-1.  0.  0.  0.  0.  0.  0.]\n",
      " [ 1.  0.  0.  1.  0.  0.  0.]]\n",
      "[[ 0.  0.  0.  0.  0.  0.  0.]\n",
      " [ 0.  0.  0.  0.  0.  0.  0.]\n",
      " [ 0.  0.  0.  0.  0.  0.  0.]\n",
      " [ 0.  0.  0.  0.  0.  0.  0.]\n",
      " [-1.  0.  0.  0.  0.  0.  0.]\n",
      " [ 1.  0. -1.  1.  0.  0.  0.]]\n",
      "[[ 0.  0.  0.  0.  0.  0.  0.]\n",
      " [ 0.  0.  0.  0.  0.  0.  0.]\n",
      " [ 0.  0.  0.  0.  0.  0.  0.]\n",
      " [ 0.  0.  0.  0.  0.  0.  0.]\n",
      " [-1.  0.  0.  0.  0.  0.  0.]\n",
      " [ 1.  0. -1.  1.  0.  1.  0.]]\n",
      "[[ 0.  0.  0.  0.  0.  0.  0.]\n",
      " [ 0.  0.  0.  0.  0.  0.  0.]\n",
      " [ 0.  0.  0.  0.  0.  0.  0.]\n",
      " [ 0.  0.  0.  0.  0.  0.  0.]\n",
      " [-1.  0.  0.  0.  0.  0.  0.]\n",
      " [ 1.  0. -1.  1.  0.  1. -1.]]\n",
      "Last board for player 1\n",
      "[[ 0.  0.  0.  0.  0.  0.  0.]\n",
      " [ 0.  0.  0.  0.  0.  0.  0.]\n",
      " [ 0.  0.  0.  0.  0.  0.  0.]\n",
      " [ 0.  0.  0.  0.  0.  0.  0.]\n",
      " [-1.  0.  0.  0.  0.  0.  0.]\n",
      " [ 1.  0. -1.  1.  0.  1. -1.]]\n",
      "Last board for player -1\n",
      "[[-0. -0. -0. -0. -0. -0. -0.]\n",
      " [-0. -0. -0. -0. -0. -0. -0.]\n",
      " [-0. -0. -0. -0. -0. -0. -0.]\n",
      " [-0. -0. -0. -0. -0. -0. -0.]\n",
      " [ 1. -0. -0. -0. -0. -0. -0.]\n",
      " [-1. -0.  1. -1. -0. -1.  1.]]\n"
     ]
    }
   ],
   "source": [
    "next_player = 1\n",
    "next_state, next_player = fiar.next_state(board=np.zeros(42), player=next_player, action=0)\n",
    "print(next_state.reshape(6,7))\n",
    "\n",
    "next_state, next_player = fiar.next_state(board=next_state, player=next_player, action=0)\n",
    "print(next_state.reshape(6,7))\n",
    "\n",
    "next_state, next_player = fiar.next_state(board=next_state, player=next_player, action=3)\n",
    "print(next_state.reshape(6,7))\n",
    "\n",
    "next_state, next_player = fiar.next_state(board=next_state, player=next_player, action=2)\n",
    "print(next_state.reshape(6,7))\n",
    "\n",
    "next_state, next_player = fiar.next_state(board=next_state, player=next_player, action=5)\n",
    "print(next_state.reshape(6,7))\n",
    "\n",
    "next_state, next_player = fiar.next_state(board=next_state, player=next_player, action=6)\n",
    "print(next_state.reshape(6,7))\n",
    "\n",
    "print(\"Last board for player 1\")\n",
    "print(fiar.get_board_from_player(player=1).reshape(6,7))\n",
    "print(\"Last board for player -1\")\n",
    "print(fiar.get_board_from_player(player=-1).reshape(6,7))"
   ]
  },
  {
   "cell_type": "markdown",
   "metadata": {},
   "source": [
    "# Test TF model"
   ]
  },
  {
   "cell_type": "code",
   "execution_count": 10,
   "metadata": {},
   "outputs": [],
   "source": [
    "import numpy as np\n",
    "import tensorflow as tf"
   ]
  },
  {
   "cell_type": "code",
   "execution_count": 11,
   "metadata": {},
   "outputs": [],
   "source": [
    "inputs = fiar.get_board_from_player(player=-1)[np.newaxis,:]"
   ]
  },
  {
   "cell_type": "code",
   "execution_count": 12,
   "metadata": {},
   "outputs": [
    {
     "name": "stdout",
     "output_type": "stream",
     "text": [
      "tf.Tensor([[0.         0.         0.         ... 0.00659088 0.         0.        ]], shape=(1, 1066), dtype=float32)\n"
     ]
    }
   ],
   "source": [
    "x = tf.cast(tf.one_hot(tf.cast(inputs + 1, tf.int32), 3), tf.float32)\n",
    "x = tf.reshape(x, (-1, 6, 7, 3))\n",
    "x = tf.keras.layers.Conv2D(\n",
    "        filters=256, kernel_size=(4, 4)\n",
    "    )(x)\n",
    "x = tf.keras.layers.BatchNormalization()(x)\n",
    "x = tf.keras.layers.ReLU()(x)\n",
    "x = tf.keras.layers.Conv2D(\n",
    "        filters=256, kernel_size=(2,3)\n",
    "    )(x)\n",
    "x = tf.keras.layers.BatchNormalization()(x)\n",
    "x = tf.keras.layers.Flatten()(x)\n",
    "flatten_inputs = tf.keras.layers.Flatten()(inputs)\n",
    "x = tf.concat([flatten_inputs, x], axis=1)\n",
    "residual_tower = tf.keras.layers.ReLU(name=\"residual_tower\")(x)\n",
    "print(residual_tower)"
   ]
  },
  {
   "cell_type": "code",
   "execution_count": 13,
   "metadata": {},
   "outputs": [],
   "source": [
    "def create_az_model():\n",
    "\n",
    "    kernel_regularizer = tf.keras.regularizers.L2(1e-4)\n",
    "\n",
    "    inputs = tf.keras.layers.Input((42))\n",
    "\n",
    "    # One-Hot encoding\n",
    "    x = tf.cast(tf.one_hot(tf.cast(inputs + 1, tf.int32), 3), tf.float32)\n",
    "\n",
    "    # Residual tower\n",
    "    x = tf.reshape(x, (-1, 6, 7, 3))\n",
    "    x = tf.keras.layers.Conv2D(\n",
    "        filters=256, kernel_size=(4, 4), kernel_regularizer=kernel_regularizer\n",
    "    )(x)\n",
    "    x = tf.keras.layers.BatchNormalization()(x)\n",
    "    x = tf.keras.layers.ReLU()(x)\n",
    "    x = tf.keras.layers.Conv2D(\n",
    "        filters=256, kernel_size=(2,3), kernel_regularizer=kernel_regularizer\n",
    "    )(x)\n",
    "    x = tf.keras.layers.BatchNormalization()(x)\n",
    "    x = tf.keras.layers.Flatten()(x)\n",
    "    flatten_inputs = tf.keras.layers.Flatten()(inputs)\n",
    "    x = tf.concat([flatten_inputs, x], axis=1)\n",
    "    residual_tower = tf.keras.layers.ReLU(name=\"residual_tower\")(x)\n",
    "\n",
    "    # Policy\n",
    "    x = tf.keras.layers.Conv1D(\n",
    "        filters=2, kernel_size=1, kernel_regularizer=kernel_regularizer\n",
    "    )(residual_tower[..., np.newaxis])\n",
    "    x = tf.keras.layers.BatchNormalization()(x)\n",
    "    x = tf.keras.layers.ReLU()(x)\n",
    "    x = tf.keras.layers.Flatten()(x)\n",
    "    p = tf.keras.layers.Dense(\n",
    "        7,\n",
    "        activation=tf.keras.activations.softmax,\n",
    "        kernel_regularizer=kernel_regularizer,\n",
    "        name=\"policy\",\n",
    "    )(x)\n",
    "\n",
    "    # Value\n",
    "    x = tf.keras.layers.Conv1D(\n",
    "        filters=1, kernel_size=1, kernel_regularizer=kernel_regularizer\n",
    "    )(residual_tower[..., np.newaxis])\n",
    "    x = tf.keras.layers.BatchNormalization()(x)\n",
    "    x = tf.keras.layers.ReLU()(x)\n",
    "    x = tf.keras.layers.Flatten()(x)\n",
    "    x = tf.keras.layers.Dense(\n",
    "        256,\n",
    "        activation=tf.keras.activations.relu,\n",
    "        kernel_regularizer=kernel_regularizer,\n",
    "    )(x)\n",
    "    v = tf.keras.layers.Dense(\n",
    "        1, activation=tf.nn.tanh, kernel_regularizer=kernel_regularizer, name=\"value\"\n",
    "    )(x)\n",
    "\n",
    "    outputs = p, v\n",
    "\n",
    "    model = tf.keras.Model(inputs=inputs, outputs=outputs, name=\"fiar_model\")\n",
    "\n",
    "    # zero_weights = []\n",
    "    # for arr in model.get_weights():\n",
    "    #     zero_weights.append(np.zeros(arr.shape))\n",
    "    # model.set_weights(zero_weights)\n",
    "\n",
    "    return model\n"
   ]
  },
  {
   "cell_type": "code",
   "execution_count": 14,
   "metadata": {},
   "outputs": [],
   "source": [
    "model = create_az_model()"
   ]
  },
  {
   "cell_type": "code",
   "execution_count": 15,
   "metadata": {},
   "outputs": [
    {
     "data": {
      "text/plain": [
       "(<tf.Tensor: shape=(1, 7), dtype=float32, numpy=\n",
       " array([[0.14285715, 0.14285715, 0.14285715, 0.14285715, 0.14285715,\n",
       "         0.14285715, 0.14285715]], dtype=float32)>,\n",
       " <tf.Tensor: shape=(1, 1), dtype=float32, numpy=array([[0.]], dtype=float32)>)"
      ]
     },
     "execution_count": 15,
     "metadata": {},
     "output_type": "execute_result"
    }
   ],
   "source": [
    "model(inputs)"
   ]
  },
  {
   "cell_type": "markdown",
   "metadata": {},
   "source": [
    "# MCTS"
   ]
  },
  {
   "cell_type": "code",
   "execution_count": 16,
   "metadata": {},
   "outputs": [],
   "source": [
    "from libs.MCTS import MCTS"
   ]
  },
  {
   "cell_type": "code",
   "execution_count": 17,
   "metadata": {},
   "outputs": [],
   "source": [
    "mcts = MCTS(game=FourInARow(), n_simulations=100)"
   ]
  },
  {
   "cell_type": "code",
   "execution_count": 18,
   "metadata": {},
   "outputs": [],
   "source": [
    "state = np.zeros(42)"
   ]
  },
  {
   "cell_type": "code",
   "execution_count": 19,
   "metadata": {},
   "outputs": [],
   "source": [
    "root = mcts.run(model=model, state=state, player=1)"
   ]
  },
  {
   "cell_type": "code",
   "execution_count": 20,
   "metadata": {},
   "outputs": [
    {
     "data": {
      "text/plain": [
       "State:\n",
       "[0. 0. 0. 0. 0. 0. 0. 0. 0. 0. 0. 0. 0. 0. 0. 0. 0. 0. 0. 0. 0. 0. 0. 0.\n",
       " 0. 0. 0. 0. 0. 0. 0. 0. 0. 0. 0. 0. 0. 0. 0. 0. 0. 0.]\n",
       "Player:1\n",
       "Value:0.0\n",
       "Leaf:False\n",
       "Visits:100\n",
       "Children:\n",
       " -0: prior=0.14285714285714285\n",
       " -1: prior=0.14285714285714285\n",
       " -2: prior=0.14285714285714285\n",
       " -3: prior=0.14285714285714285\n",
       " -4: prior=0.14285714285714285\n",
       " -5: prior=0.14285714285714285\n",
       " -6: prior=0.14285714285714285"
      ]
     },
     "execution_count": 20,
     "metadata": {},
     "output_type": "execute_result"
    }
   ],
   "source": [
    "root"
   ]
  },
  {
   "cell_type": "code",
   "execution_count": 21,
   "metadata": {},
   "outputs": [
    {
     "data": {
      "text/plain": [
       "State:\n",
       "[0. 0. 0. 0. 0. 0. 0. 0. 0. 0. 0. 0. 0. 0. 0. 0. 0. 0. 0. 0. 0. 0. 0. 0.\n",
       " 0. 0. 0. 0. 0. 0. 0. 0. 0. 0. 0. 0. 0. 1. 0. 0. 0. 0.]\n",
       "Player:-1\n",
       "Value:0.0\n",
       "Leaf:False\n",
       "Visits:14\n",
       "Children:\n",
       " -0: prior=0.14285714285714285\n",
       " -1: prior=0.14285714285714285\n",
       " -2: prior=0.14285714285714285\n",
       " -3: prior=0.14285714285714285\n",
       " -4: prior=0.14285714285714285\n",
       " -5: prior=0.14285714285714285\n",
       " -6: prior=0.14285714285714285"
      ]
     },
     "execution_count": 21,
     "metadata": {},
     "output_type": "execute_result"
    }
   ],
   "source": [
    "root.children[2]"
   ]
  },
  {
   "cell_type": "code",
   "execution_count": 22,
   "metadata": {},
   "outputs": [
    {
     "data": {
      "text/plain": [
       "{0: State:\n",
       " [ 0.  0.  0.  0.  0.  0.  0.  0.  0.  0.  0.  0.  0.  0.  0.  0.  0.  0.\n",
       "   0.  0.  0.  0.  0.  0.  0.  0.  0.  0.  0.  0.  0.  0.  0.  0.  0. -1.\n",
       "   0.  1.  0.  0.  0.  0.]\n",
       " Player:1\n",
       " Value:0.0\n",
       " Leaf:False\n",
       " Visits:2\n",
       " Children:\n",
       "  -0: prior=0.14285714285714285\n",
       "  -1: prior=0.14285714285714285\n",
       "  -2: prior=0.14285714285714285\n",
       "  -3: prior=0.14285714285714285\n",
       "  -4: prior=0.14285714285714285\n",
       "  -5: prior=0.14285714285714285\n",
       "  -6: prior=0.14285714285714285,\n",
       " 1: State:\n",
       " [ 0.  0.  0.  0.  0.  0.  0.  0.  0.  0.  0.  0.  0.  0.  0.  0.  0.  0.\n",
       "   0.  0.  0.  0.  0.  0.  0.  0.  0.  0.  0.  0.  0.  0.  0.  0.  0.  0.\n",
       "  -1.  1.  0.  0.  0.  0.]\n",
       " Player:1\n",
       " Value:0.0\n",
       " Leaf:False\n",
       " Visits:2\n",
       " Children:\n",
       "  -0: prior=0.14285714285714285\n",
       "  -1: prior=0.14285714285714285\n",
       "  -2: prior=0.14285714285714285\n",
       "  -3: prior=0.14285714285714285\n",
       "  -4: prior=0.14285714285714285\n",
       "  -5: prior=0.14285714285714285\n",
       "  -6: prior=0.14285714285714285,\n",
       " 2: State:\n",
       " [ 0.  0.  0.  0.  0.  0.  0.  0.  0.  0.  0.  0.  0.  0.  0.  0.  0.  0.\n",
       "   0.  0.  0.  0.  0.  0.  0.  0.  0.  0.  0.  0. -1.  0.  0.  0.  0.  0.\n",
       "   0.  1.  0.  0.  0.  0.]\n",
       " Player:1\n",
       " Value:0.0\n",
       " Leaf:False\n",
       " Visits:2\n",
       " Children:\n",
       "  -0: prior=0.14285714285714285\n",
       "  -1: prior=0.14285714285714285\n",
       "  -2: prior=0.14285714285714285\n",
       "  -3: prior=0.14285714285714285\n",
       "  -4: prior=0.14285714285714285\n",
       "  -5: prior=0.14285714285714285\n",
       "  -6: prior=0.14285714285714285,\n",
       " 3: State:\n",
       " [ 0.  0.  0.  0.  0.  0.  0.  0.  0.  0.  0.  0.  0.  0.  0.  0.  0.  0.\n",
       "   0.  0.  0.  0.  0.  0.  0.  0.  0.  0.  0.  0.  0.  0.  0.  0.  0.  0.\n",
       "   0.  1. -1.  0.  0.  0.]\n",
       " Player:1\n",
       " Value:0.0\n",
       " Leaf:False\n",
       " Visits:2\n",
       " Children:\n",
       "  -0: prior=0.14285714285714285\n",
       "  -1: prior=0.14285714285714285\n",
       "  -2: prior=0.14285714285714285\n",
       "  -3: prior=0.14285714285714285\n",
       "  -4: prior=0.14285714285714285\n",
       "  -5: prior=0.14285714285714285\n",
       "  -6: prior=0.14285714285714285,\n",
       " 4: State:\n",
       " [ 0.  0.  0.  0.  0.  0.  0.  0.  0.  0.  0.  0.  0.  0.  0.  0.  0.  0.\n",
       "   0.  0.  0.  0.  0.  0.  0.  0.  0.  0.  0.  0.  0.  0.  0.  0.  0.  0.\n",
       "   0.  1.  0. -1.  0.  0.]\n",
       " Player:1\n",
       " Value:0.0\n",
       " Leaf:False\n",
       " Visits:1\n",
       " Children:\n",
       "  -0: prior=0.14285714285714285\n",
       "  -1: prior=0.14285714285714285\n",
       "  -2: prior=0.14285714285714285\n",
       "  -3: prior=0.14285714285714285\n",
       "  -4: prior=0.14285714285714285\n",
       "  -5: prior=0.14285714285714285\n",
       "  -6: prior=0.14285714285714285,\n",
       " 5: State:\n",
       " [ 0.  0.  0.  0.  0.  0.  0.  0.  0.  0.  0.  0.  0.  0.  0.  0.  0.  0.\n",
       "   0.  0.  0.  0.  0.  0.  0.  0.  0.  0.  0.  0.  0.  0.  0.  0.  0.  0.\n",
       "   0.  1.  0.  0. -1.  0.]\n",
       " Player:1\n",
       " Value:0.0\n",
       " Leaf:False\n",
       " Visits:2\n",
       " Children:\n",
       "  -0: prior=0.14285714285714285\n",
       "  -1: prior=0.14285714285714285\n",
       "  -2: prior=0.14285714285714285\n",
       "  -3: prior=0.14285714285714285\n",
       "  -4: prior=0.14285714285714285\n",
       "  -5: prior=0.14285714285714285\n",
       "  -6: prior=0.14285714285714285,\n",
       " 6: State:\n",
       " [ 0.  0.  0.  0.  0.  0.  0.  0.  0.  0.  0.  0.  0.  0.  0.  0.  0.  0.\n",
       "   0.  0.  0.  0.  0.  0.  0.  0.  0.  0.  0.  0.  0.  0.  0.  0.  0.  0.\n",
       "   0.  1.  0.  0.  0. -1.]\n",
       " Player:1\n",
       " Value:0.0\n",
       " Leaf:False\n",
       " Visits:2\n",
       " Children:\n",
       "  -0: prior=0.14285714285714285\n",
       "  -1: prior=0.14285714285714285\n",
       "  -2: prior=0.14285714285714285\n",
       "  -3: prior=0.14285714285714285\n",
       "  -4: prior=0.14285714285714285\n",
       "  -5: prior=0.14285714285714285\n",
       "  -6: prior=0.14285714285714285}"
      ]
     },
     "execution_count": 22,
     "metadata": {},
     "output_type": "execute_result"
    }
   ],
   "source": [
    "root.children[2].children"
   ]
  },
  {
   "cell_type": "code",
   "execution_count": null,
   "metadata": {},
   "outputs": [],
   "source": []
  },
  {
   "cell_type": "markdown",
   "metadata": {},
   "source": [
    "# Training"
   ]
  },
  {
   "cell_type": "code",
   "execution_count": 31,
   "metadata": {},
   "outputs": [
    {
     "name": "stdout",
     "output_type": "stream",
     "text": [
      "[Number of cores]: 4\n"
     ]
    }
   ],
   "source": [
    "from libs.Trainer import Trainer\n",
    "import time\n",
    "import multiprocessing as mp\n",
    "\n",
    "n_cores = mp.cpu_count()\n",
    "print(f\"[Number of cores]: {n_cores}\")"
   ]
  },
  {
   "cell_type": "code",
   "execution_count": 35,
   "metadata": {},
   "outputs": [
    {
     "name": "stdout",
     "output_type": "stream",
     "text": [
      "Running time: 7412.072238206863 seconds\n"
     ]
    }
   ],
   "source": [
    "start_time = time.time()\n",
    "trainer = Trainer(game = FourInARow, mcts = MCTS, model=create_az_model())\n",
    "dataset = trainer.create_dataset(number_of_games=200, temperature=1)\n",
    "print(\"Running time: %s seconds\" % (time.time() - start_time))"
   ]
  },
  {
   "cell_type": "code",
   "execution_count": 36,
   "metadata": {},
   "outputs": [],
   "source": [
    "import pickle\n",
    "with open(\"200_tictactoe.pickle\", \"wb\") as fp:\n",
    "    pickle.dump(dataset, fp, protocol=pickle.HIGHEST_PROTOCOL)"
   ]
  },
  {
   "cell_type": "code",
   "execution_count": 33,
   "metadata": {},
   "outputs": [],
   "source": [
    "def parallel_fn(n):\n",
    "    trainer = Trainer(game = FourInARow, mcts = MCTS, model=create_az_model())\n",
    "    game_batch = trainer.create_dataset(number_of_games=1, temperature=1)\n",
    "    return game_batch"
   ]
  },
  {
   "cell_type": "code",
   "execution_count": 34,
   "metadata": {},
   "outputs": [
    {
     "ename": "KeyboardInterrupt",
     "evalue": "",
     "output_type": "error",
     "traceback": [
      "\u001b[0;31m---------------------------------------------------------------------------\u001b[0m",
      "\u001b[0;31mKeyboardInterrupt\u001b[0m                         Traceback (most recent call last)",
      "\u001b[0;32m<ipython-input-34-548122604d94>\u001b[0m in \u001b[0;36m<module>\u001b[0;34m\u001b[0m\n\u001b[1;32m      1\u001b[0m \u001b[0mstart_time\u001b[0m \u001b[0;34m=\u001b[0m \u001b[0mtime\u001b[0m\u001b[0;34m.\u001b[0m\u001b[0mtime\u001b[0m\u001b[0;34m(\u001b[0m\u001b[0;34m)\u001b[0m\u001b[0;34m\u001b[0m\u001b[0;34m\u001b[0m\u001b[0m\n\u001b[1;32m      2\u001b[0m \u001b[0;32mwith\u001b[0m \u001b[0mmp\u001b[0m\u001b[0;34m.\u001b[0m\u001b[0mPool\u001b[0m\u001b[0;34m(\u001b[0m\u001b[0mn_cores\u001b[0m\u001b[0;34m)\u001b[0m \u001b[0;32mas\u001b[0m \u001b[0mpool\u001b[0m\u001b[0;34m:\u001b[0m\u001b[0;34m\u001b[0m\u001b[0;34m\u001b[0m\u001b[0m\n\u001b[0;32m----> 3\u001b[0;31m     \u001b[0mdataset\u001b[0m \u001b[0;34m=\u001b[0m \u001b[0mpool\u001b[0m\u001b[0;34m.\u001b[0m\u001b[0mmap\u001b[0m\u001b[0;34m(\u001b[0m\u001b[0mparallel_fn\u001b[0m\u001b[0;34m,\u001b[0m \u001b[0mrange\u001b[0m\u001b[0;34m(\u001b[0m\u001b[0;36m4\u001b[0m\u001b[0;34m)\u001b[0m\u001b[0;34m)\u001b[0m\u001b[0;34m\u001b[0m\u001b[0;34m\u001b[0m\u001b[0m\n\u001b[0m\u001b[1;32m      4\u001b[0m \u001b[0mprint\u001b[0m\u001b[0;34m(\u001b[0m\u001b[0;34m\"Running time: %s seconds\"\u001b[0m \u001b[0;34m%\u001b[0m \u001b[0;34m(\u001b[0m\u001b[0mtime\u001b[0m\u001b[0;34m.\u001b[0m\u001b[0mtime\u001b[0m\u001b[0;34m(\u001b[0m\u001b[0;34m)\u001b[0m \u001b[0;34m-\u001b[0m \u001b[0mstart_time\u001b[0m\u001b[0;34m)\u001b[0m\u001b[0;34m)\u001b[0m\u001b[0;34m\u001b[0m\u001b[0;34m\u001b[0m\u001b[0m\n",
      "\u001b[0;32m~/miniconda3/lib/python3.8/multiprocessing/pool.py\u001b[0m in \u001b[0;36mmap\u001b[0;34m(self, func, iterable, chunksize)\u001b[0m\n\u001b[1;32m    362\u001b[0m         \u001b[0;32min\u001b[0m \u001b[0ma\u001b[0m \u001b[0mlist\u001b[0m \u001b[0mthat\u001b[0m \u001b[0;32mis\u001b[0m \u001b[0mreturned\u001b[0m\u001b[0;34m.\u001b[0m\u001b[0;34m\u001b[0m\u001b[0;34m\u001b[0m\u001b[0m\n\u001b[1;32m    363\u001b[0m         '''\n\u001b[0;32m--> 364\u001b[0;31m         \u001b[0;32mreturn\u001b[0m \u001b[0mself\u001b[0m\u001b[0;34m.\u001b[0m\u001b[0m_map_async\u001b[0m\u001b[0;34m(\u001b[0m\u001b[0mfunc\u001b[0m\u001b[0;34m,\u001b[0m \u001b[0miterable\u001b[0m\u001b[0;34m,\u001b[0m \u001b[0mmapstar\u001b[0m\u001b[0;34m,\u001b[0m \u001b[0mchunksize\u001b[0m\u001b[0;34m)\u001b[0m\u001b[0;34m.\u001b[0m\u001b[0mget\u001b[0m\u001b[0;34m(\u001b[0m\u001b[0;34m)\u001b[0m\u001b[0;34m\u001b[0m\u001b[0;34m\u001b[0m\u001b[0m\n\u001b[0m\u001b[1;32m    365\u001b[0m \u001b[0;34m\u001b[0m\u001b[0m\n\u001b[1;32m    366\u001b[0m     \u001b[0;32mdef\u001b[0m \u001b[0mstarmap\u001b[0m\u001b[0;34m(\u001b[0m\u001b[0mself\u001b[0m\u001b[0;34m,\u001b[0m \u001b[0mfunc\u001b[0m\u001b[0;34m,\u001b[0m \u001b[0miterable\u001b[0m\u001b[0;34m,\u001b[0m \u001b[0mchunksize\u001b[0m\u001b[0;34m=\u001b[0m\u001b[0;32mNone\u001b[0m\u001b[0;34m)\u001b[0m\u001b[0;34m:\u001b[0m\u001b[0;34m\u001b[0m\u001b[0;34m\u001b[0m\u001b[0m\n",
      "\u001b[0;32m~/miniconda3/lib/python3.8/multiprocessing/pool.py\u001b[0m in \u001b[0;36mget\u001b[0;34m(self, timeout)\u001b[0m\n\u001b[1;32m    763\u001b[0m \u001b[0;34m\u001b[0m\u001b[0m\n\u001b[1;32m    764\u001b[0m     \u001b[0;32mdef\u001b[0m \u001b[0mget\u001b[0m\u001b[0;34m(\u001b[0m\u001b[0mself\u001b[0m\u001b[0;34m,\u001b[0m \u001b[0mtimeout\u001b[0m\u001b[0;34m=\u001b[0m\u001b[0;32mNone\u001b[0m\u001b[0;34m)\u001b[0m\u001b[0;34m:\u001b[0m\u001b[0;34m\u001b[0m\u001b[0;34m\u001b[0m\u001b[0m\n\u001b[0;32m--> 765\u001b[0;31m         \u001b[0mself\u001b[0m\u001b[0;34m.\u001b[0m\u001b[0mwait\u001b[0m\u001b[0;34m(\u001b[0m\u001b[0mtimeout\u001b[0m\u001b[0;34m)\u001b[0m\u001b[0;34m\u001b[0m\u001b[0;34m\u001b[0m\u001b[0m\n\u001b[0m\u001b[1;32m    766\u001b[0m         \u001b[0;32mif\u001b[0m \u001b[0;32mnot\u001b[0m \u001b[0mself\u001b[0m\u001b[0;34m.\u001b[0m\u001b[0mready\u001b[0m\u001b[0;34m(\u001b[0m\u001b[0;34m)\u001b[0m\u001b[0;34m:\u001b[0m\u001b[0;34m\u001b[0m\u001b[0;34m\u001b[0m\u001b[0m\n\u001b[1;32m    767\u001b[0m             \u001b[0;32mraise\u001b[0m \u001b[0mTimeoutError\u001b[0m\u001b[0;34m\u001b[0m\u001b[0;34m\u001b[0m\u001b[0m\n",
      "\u001b[0;32m~/miniconda3/lib/python3.8/multiprocessing/pool.py\u001b[0m in \u001b[0;36mwait\u001b[0;34m(self, timeout)\u001b[0m\n\u001b[1;32m    760\u001b[0m \u001b[0;34m\u001b[0m\u001b[0m\n\u001b[1;32m    761\u001b[0m     \u001b[0;32mdef\u001b[0m \u001b[0mwait\u001b[0m\u001b[0;34m(\u001b[0m\u001b[0mself\u001b[0m\u001b[0;34m,\u001b[0m \u001b[0mtimeout\u001b[0m\u001b[0;34m=\u001b[0m\u001b[0;32mNone\u001b[0m\u001b[0;34m)\u001b[0m\u001b[0;34m:\u001b[0m\u001b[0;34m\u001b[0m\u001b[0;34m\u001b[0m\u001b[0m\n\u001b[0;32m--> 762\u001b[0;31m         \u001b[0mself\u001b[0m\u001b[0;34m.\u001b[0m\u001b[0m_event\u001b[0m\u001b[0;34m.\u001b[0m\u001b[0mwait\u001b[0m\u001b[0;34m(\u001b[0m\u001b[0mtimeout\u001b[0m\u001b[0;34m)\u001b[0m\u001b[0;34m\u001b[0m\u001b[0;34m\u001b[0m\u001b[0m\n\u001b[0m\u001b[1;32m    763\u001b[0m \u001b[0;34m\u001b[0m\u001b[0m\n\u001b[1;32m    764\u001b[0m     \u001b[0;32mdef\u001b[0m \u001b[0mget\u001b[0m\u001b[0;34m(\u001b[0m\u001b[0mself\u001b[0m\u001b[0;34m,\u001b[0m \u001b[0mtimeout\u001b[0m\u001b[0;34m=\u001b[0m\u001b[0;32mNone\u001b[0m\u001b[0;34m)\u001b[0m\u001b[0;34m:\u001b[0m\u001b[0;34m\u001b[0m\u001b[0;34m\u001b[0m\u001b[0m\n",
      "\u001b[0;32m~/miniconda3/lib/python3.8/threading.py\u001b[0m in \u001b[0;36mwait\u001b[0;34m(self, timeout)\u001b[0m\n\u001b[1;32m    556\u001b[0m             \u001b[0msignaled\u001b[0m \u001b[0;34m=\u001b[0m \u001b[0mself\u001b[0m\u001b[0;34m.\u001b[0m\u001b[0m_flag\u001b[0m\u001b[0;34m\u001b[0m\u001b[0;34m\u001b[0m\u001b[0m\n\u001b[1;32m    557\u001b[0m             \u001b[0;32mif\u001b[0m \u001b[0;32mnot\u001b[0m \u001b[0msignaled\u001b[0m\u001b[0;34m:\u001b[0m\u001b[0;34m\u001b[0m\u001b[0;34m\u001b[0m\u001b[0m\n\u001b[0;32m--> 558\u001b[0;31m                 \u001b[0msignaled\u001b[0m \u001b[0;34m=\u001b[0m \u001b[0mself\u001b[0m\u001b[0;34m.\u001b[0m\u001b[0m_cond\u001b[0m\u001b[0;34m.\u001b[0m\u001b[0mwait\u001b[0m\u001b[0;34m(\u001b[0m\u001b[0mtimeout\u001b[0m\u001b[0;34m)\u001b[0m\u001b[0;34m\u001b[0m\u001b[0;34m\u001b[0m\u001b[0m\n\u001b[0m\u001b[1;32m    559\u001b[0m             \u001b[0;32mreturn\u001b[0m \u001b[0msignaled\u001b[0m\u001b[0;34m\u001b[0m\u001b[0;34m\u001b[0m\u001b[0m\n\u001b[1;32m    560\u001b[0m \u001b[0;34m\u001b[0m\u001b[0m\n",
      "\u001b[0;32m~/miniconda3/lib/python3.8/threading.py\u001b[0m in \u001b[0;36mwait\u001b[0;34m(self, timeout)\u001b[0m\n\u001b[1;32m    300\u001b[0m         \u001b[0;32mtry\u001b[0m\u001b[0;34m:\u001b[0m    \u001b[0;31m# restore state no matter what (e.g., KeyboardInterrupt)\u001b[0m\u001b[0;34m\u001b[0m\u001b[0;34m\u001b[0m\u001b[0m\n\u001b[1;32m    301\u001b[0m             \u001b[0;32mif\u001b[0m \u001b[0mtimeout\u001b[0m \u001b[0;32mis\u001b[0m \u001b[0;32mNone\u001b[0m\u001b[0;34m:\u001b[0m\u001b[0;34m\u001b[0m\u001b[0;34m\u001b[0m\u001b[0m\n\u001b[0;32m--> 302\u001b[0;31m                 \u001b[0mwaiter\u001b[0m\u001b[0;34m.\u001b[0m\u001b[0macquire\u001b[0m\u001b[0;34m(\u001b[0m\u001b[0;34m)\u001b[0m\u001b[0;34m\u001b[0m\u001b[0;34m\u001b[0m\u001b[0m\n\u001b[0m\u001b[1;32m    303\u001b[0m                 \u001b[0mgotit\u001b[0m \u001b[0;34m=\u001b[0m \u001b[0;32mTrue\u001b[0m\u001b[0;34m\u001b[0m\u001b[0;34m\u001b[0m\u001b[0m\n\u001b[1;32m    304\u001b[0m             \u001b[0;32melse\u001b[0m\u001b[0;34m:\u001b[0m\u001b[0;34m\u001b[0m\u001b[0;34m\u001b[0m\u001b[0m\n",
      "\u001b[0;31mKeyboardInterrupt\u001b[0m: "
     ]
    }
   ],
   "source": [
    "start_time = time.time()\n",
    "with mp.Pool(n_cores) as pool:\n",
    "    dataset = pool.map(parallel_fn, range(4))\n",
    "print(\"Running time: %s seconds\" % (time.time() - start_time))"
   ]
  },
  {
   "cell_type": "code",
   "execution_count": 26,
   "metadata": {
    "scrolled": false
   },
   "outputs": [
    {
     "data": {
      "text/plain": [
       "[(array([0., 0., 0., 0., 0., 0., 0., 0., 0., 0., 0., 0., 0., 0., 0., 0., 0.,\n",
       "         0., 0., 0., 0., 0., 0., 0., 0., 0., 0., 0., 0., 0., 0., 0., 0., 0.,\n",
       "         0., 0., 0., 0., 0., 0., 0., 0.]),\n",
       "  array([0.14, 0.14, 0.16, 0.14, 0.14, 0.14, 0.14]),\n",
       "  -1.0),\n",
       " (array([-0., -0., -0., -0., -0., -0., -0., -0., -0., -0., -0., -0., -0.,\n",
       "         -0., -0., -0., -0., -0., -0., -0., -0., -0., -0., -0., -0., -0.,\n",
       "         -0., -0., -0., -0., -0., -0., -0., -0., -0., -0., -0., -0., -0.,\n",
       "         -1., -0., -0.]),\n",
       "  array([0.14285714, 0.14285714, 0.14285714, 0.14285714, 0.14285714,\n",
       "         0.14285714, 0.14285714]),\n",
       "  1.0),\n",
       " (array([ 0.,  0.,  0.,  0.,  0.,  0.,  0.,  0.,  0.,  0.,  0.,  0.,  0.,\n",
       "          0.,  0.,  0.,  0.,  0.,  0.,  0.,  0.,  0.,  0.,  0.,  0.,  0.,\n",
       "          0.,  0.,  0.,  0.,  0.,  0.,  0.,  0.,  0.,  0.,  0.,  0., -1.,\n",
       "          1.,  0.,  0.]),\n",
       "  array([0.14035088, 0.15789474, 0.15789474, 0.14035088, 0.12280702,\n",
       "         0.15789474, 0.12280702]),\n",
       "  -1.0),\n",
       " (array([-0., -0., -0., -0., -0., -0., -0., -0., -0., -0., -0., -0., -0.,\n",
       "         -0., -0., -0., -0., -0., -0., -0., -0., -0., -0., -0., -0., -0.,\n",
       "         -0., -0., -0., -0., -0., -1., -0., -0., -0., -0., -0., -0.,  1.,\n",
       "         -1., -0., -0.]),\n",
       "  array([0.15789474, 0.14035088, 0.14035088, 0.14035088, 0.14035088,\n",
       "         0.14035088, 0.14035088]),\n",
       "  1.0),\n",
       " (array([ 0.,  0.,  0.,  0.,  0.,  0.,  0.,  0.,  0.,  0.,  0.,  0.,  0.,\n",
       "          0.,  0.,  0.,  0.,  0.,  0.,  0.,  0.,  0.,  0.,  0.,  0.,  0.,\n",
       "          0.,  0.,  0.,  0.,  0.,  1., -1.,  0.,  0.,  0.,  0.,  0., -1.,\n",
       "          1.,  0.,  0.]),\n",
       "  array([0.15789474, 0.14035088, 0.1754386 , 0.14035088, 0.14035088,\n",
       "         0.14035088, 0.10526316]),\n",
       "  -1.0),\n",
       " (array([-0., -0., -0., -0., -0., -0., -0., -0., -0., -0., -0., -0., -0.,\n",
       "         -0., -0., -0., -0., -0., -0., -0., -0., -0., -0., -0., -0., -0.,\n",
       "         -0., -0., -0., -0., -0., -1.,  1., -0., -0., -0., -1., -0.,  1.,\n",
       "         -1., -0., -0.]),\n",
       "  array([0.15789474, 0.14035088, 0.15789474, 0.12280702, 0.15789474,\n",
       "         0.12280702, 0.14035088]),\n",
       "  1.0),\n",
       " (array([ 0.,  0.,  0.,  0.,  0.,  0.,  0.,  0.,  0.,  0.,  0.,  0.,  0.,\n",
       "          0.,  0.,  0.,  0.,  0.,  0.,  0.,  0.,  0.,  0.,  0.,  0.,  0.,\n",
       "          0.,  0.,  0.,  0.,  0.,  1., -1.,  0.,  0.,  0.,  1., -1., -1.,\n",
       "          1.,  0.,  0.]),\n",
       "  array([0.15517241, 0.13793103, 0.17241379, 0.13793103, 0.13793103,\n",
       "         0.15517241, 0.10344828]),\n",
       "  -1.0),\n",
       " (array([-0., -0., -0., -0., -0., -0., -0., -0., -0., -0., -0., -0., -0.,\n",
       "         -0., -0., -0., -0., -0., -0., -0., -0., -0., -0., -0., -0., -0.,\n",
       "         -0., -0., -0., -0., -0., -1.,  1., -0., -0., -0., -1.,  1.,  1.,\n",
       "         -1., -1., -0.]),\n",
       "  array([0.15517241, 0.15517241, 0.13793103, 0.12068966, 0.15517241,\n",
       "         0.13793103, 0.13793103]),\n",
       "  1.0),\n",
       " (array([ 0.,  0.,  0.,  0.,  0.,  0.,  0.,  0.,  0.,  0.,  0.,  0.,  0.,\n",
       "          0.,  0.,  0.,  0.,  0.,  0.,  0.,  0.,  0.,  0.,  0.,  0.,  0.,\n",
       "          0.,  0.,  0., -1.,  0.,  1., -1.,  0.,  0.,  0.,  1., -1., -1.,\n",
       "          1.,  1.,  0.]),\n",
       "  array([0.13793103, 0.15517241, 0.17241379, 0.13793103, 0.12068966,\n",
       "         0.15517241, 0.12068966]),\n",
       "  -1.0),\n",
       " (array([-0., -0., -0., -0., -0., -0., -0., -0., -0., -0., -0., -0., -0.,\n",
       "         -0., -0., -0., -0., -0., -0., -0., -0., -0., -1., -0., -0., -0.,\n",
       "         -0., -0., -0.,  1., -0., -1.,  1., -0., -0., -0., -1.,  1.,  1.,\n",
       "         -1., -1., -0.]),\n",
       "  array([0.15517241, 0.13793103, 0.13793103, 0.12068966, 0.15517241,\n",
       "         0.13793103, 0.15517241]),\n",
       "  1.0),\n",
       " (array([ 0.,  0.,  0.,  0.,  0.,  0.,  0.,  0.,  0.,  0.,  0.,  0.,  0.,\n",
       "          0.,  0.,  0.,  0.,  0.,  0.,  0.,  0.,  0.,  1.,  0.,  0.,  0.,\n",
       "          0.,  0.,  0., -1.,  0.,  1., -1.,  0.,  0.,  0.,  1., -1., -1.,\n",
       "          1.,  1., -1.]),\n",
       "  array([0.15517241, 0.13793103, 0.17241379, 0.13793103, 0.13793103,\n",
       "         0.15517241, 0.10344828]),\n",
       "  -1.0),\n",
       " (array([-0., -0., -0., -0., -0., -0., -0., -0., -0., -0., -0., -0., -0.,\n",
       "         -0., -0., -0., -0., -0., -0., -0., -0., -0., -1., -0., -0., -0.,\n",
       "         -0., -0., -0.,  1., -1., -1.,  1., -0., -0., -0., -1.,  1.,  1.,\n",
       "         -1., -1.,  1.]),\n",
       "  array([0.15254237, 0.15254237, 0.13559322, 0.11864407, 0.15254237,\n",
       "         0.13559322, 0.15254237]),\n",
       "  1.0),\n",
       " (array([ 0.,  0.,  0.,  0.,  0.,  0.,  0.,  0.,  0.,  0.,  0.,  0.,  0.,\n",
       "          0.,  0.,  0.,  0.,  0.,  0.,  0.,  0.,  0.,  1.,  0.,  0.,  0.,\n",
       "          0.,  0.,  0., -1.,  1.,  1., -1., -1.,  0.,  0.,  1., -1., -1.,\n",
       "          1.,  1., -1.]),\n",
       "  array([0.14035088, 0.15789474, 0.1754386 , 0.15789474, 0.12280702,\n",
       "         0.14035088, 0.10526316]),\n",
       "  -1.0),\n",
       " (array([-0., -0., -0., -0., -0., -0., -0., -0., -0., -0., -0., -0., -0.,\n",
       "         -0., -0., -0., -0., -0., -0., -0., -0., -0., -1., -1., -0., -0.,\n",
       "         -0., -0., -0.,  1., -1., -1.,  1.,  1., -0., -0., -1.,  1.,  1.,\n",
       "         -1., -1.,  1.]),\n",
       "  array([0.05084746, 0.69491525, 0.05084746, 0.05084746, 0.05084746,\n",
       "         0.05084746, 0.05084746]),\n",
       "  1.0),\n",
       " (array([ 0.,  0.,  0.,  0.,  0.,  0.,  0.,  0.,  0.,  0.,  0.,  0.,  0.,\n",
       "          0.,  0., -1.,  0.,  0.,  0.,  0.,  0.,  0.,  1.,  1.,  0.,  0.,\n",
       "          0.,  0.,  0., -1.,  1.,  1., -1., -1.,  0.,  0.,  1., -1., -1.,\n",
       "          1.,  1., -1.]),\n",
       "  array([0.08888889, 0.1       , 0.52222222, 0.08888889, 0.06666667,\n",
       "         0.07777778, 0.05555556]),\n",
       "  -1.0),\n",
       " (array([-0., -0., -0., -0., -0., -0., -0., -0., -0., -0., -0., -0., -0.,\n",
       "         -0., -0.,  1., -0., -0., -0., -0., -0., -0., -1., -1., -0., -0.,\n",
       "         -0., -0., -0.,  1., -1., -1.,  1.,  1., -1., -0., -1.,  1.,  1.,\n",
       "         -1., -1.,  1.]),\n",
       "  array([0.14814815, 0.16666667, 0.16666667, 0.11111111, 0.12962963,\n",
       "         0.14814815, 0.12962963]),\n",
       "  1.0),\n",
       " (array([ 0.,  0.,  0.,  0.,  0.,  0.,  0.,  0.,  0.,  0.,  0.,  0.,  0.,\n",
       "          0.,  0., -1.,  0.,  0.,  0.,  0.,  0.,  0.,  1.,  1.,  0.,  0.,\n",
       "          0.,  0.,  0., -1.,  1.,  1., -1., -1.,  1., -1.,  1., -1., -1.,\n",
       "          1.,  1., -1.]),\n",
       "  array([0.14035088, 0.1754386 , 0.15789474, 0.15789474, 0.12280702,\n",
       "         0.14035088, 0.10526316]),\n",
       "  -1.0),\n",
       " (array([-0., -0., -0., -0., -0., -0., -0., -0., -0., -0., -0., -0., -0.,\n",
       "         -0., -0.,  1., -0., -0., -0., -0., -0., -0., -1., -1., -0., -0.,\n",
       "         -0., -1., -0.,  1., -1., -1.,  1.,  1., -1.,  1., -1.,  1.,  1.,\n",
       "         -1., -1.,  1.]),\n",
       "  array([0.16363636, 0.14545455, 0.16363636, 0.10909091, 0.12727273,\n",
       "         0.14545455, 0.14545455]),\n",
       "  1.0),\n",
       " (array([ 0.,  0.,  0.,  0.,  0.,  0.,  0.,  0.,  0.,  0.,  0.,  0.,  0.,\n",
       "          0.,  0., -1.,  0.,  0.,  0.,  0.,  0.,  0.,  1.,  1.,  0., -1.,\n",
       "          0.,  1.,  0., -1.,  1.,  1., -1., -1.,  1., -1.,  1., -1., -1.,\n",
       "          1.,  1., -1.]),\n",
       "  array([0.125     , 0.14285714, 0.25      , 0.14285714, 0.10714286,\n",
       "         0.14285714, 0.08928571]),\n",
       "  -1.0),\n",
       " (array([-0., -0., -0., -0., -0., -0., -0., -0., -0., -0., -0., -0., -0.,\n",
       "         -0., -0.,  1., -1., -0., -0., -0., -0., -0., -1., -1., -0.,  1.,\n",
       "         -0., -1., -0.,  1., -1., -1.,  1.,  1., -1.,  1., -1.,  1.,  1.,\n",
       "         -1., -1.,  1.]),\n",
       "  array([0.03174603, 0.03174603, 0.80952381, 0.03174603, 0.03174603,\n",
       "         0.03174603, 0.03174603]),\n",
       "  1.0),\n",
       " (array([ 0.,  0.,  0.,  0.,  0.,  0.,  0.,  0.,  0., -1.,  0.,  0.,  0.,\n",
       "          0.,  0., -1.,  1.,  0.,  0.,  0.,  0.,  0.,  1.,  1.,  0., -1.,\n",
       "          0.,  1.,  0., -1.,  1.,  1., -1., -1.,  1., -1.,  1., -1., -1.,\n",
       "          1.,  1., -1.]),\n",
       "  array([0.15, 0.18, 0.19, 0.08, 0.13, 0.16, 0.11]),\n",
       "  -1.0),\n",
       " (array([-0., -0., -0., -0., -0., -0., -0., -0., -0.,  1., -0., -0., -0.,\n",
       "         -0., -0.,  1., -1., -0., -0., -0., -0., -0., -1., -1., -0.,  1.,\n",
       "         -1., -1., -0.,  1., -1., -1.,  1.,  1., -1.,  1., -1.,  1.,  1.,\n",
       "         -1., -1.,  1.]),\n",
       "  array([0.16923077, 0.16923077, 0.15384615, 0.10769231, 0.12307692,\n",
       "         0.12307692, 0.15384615]),\n",
       "  1.0),\n",
       " (array([ 0.,  0.,  0.,  0.,  0.,  0.,  0.,  0.,  0., -1.,  0.,  0.,  0.,\n",
       "          0.,  0., -1.,  1.,  0., -1.,  0.,  0.,  0.,  1.,  1.,  0., -1.,\n",
       "          1.,  1.,  0., -1.,  1.,  1., -1., -1.,  1., -1.,  1., -1., -1.,\n",
       "          1.,  1., -1.]),\n",
       "  array([0.14035088, 0.12280702, 0.12280702, 0.12280702, 0.21052632,\n",
       "         0.14035088, 0.14035088]),\n",
       "  -1.0),\n",
       " (array([-0., -0., -0., -0., -0., -0., -0., -0., -0.,  1., -0., -0., -0.,\n",
       "         -0., -0.,  1., -1., -0.,  1., -0., -0., -0., -1., -1., -1.,  1.,\n",
       "         -1., -1., -0.,  1., -1., -1.,  1.,  1., -1.,  1., -1.,  1.,  1.,\n",
       "         -1., -1.,  1.]),\n",
       "  array([0.01785714, 0.01785714, 0.01785714, 0.91071429, 0.        ,\n",
       "         0.01785714, 0.01785714]),\n",
       "  1.0),\n",
       " (array([0., 0., 0., 0., 0., 0., 0., 0., 0., 0., 0., 0., 0., 0., 0., 0., 0.,\n",
       "         0., 0., 0., 0., 0., 0., 0., 0., 0., 0., 0., 0., 0., 0., 0., 0., 0.,\n",
       "         0., 0., 0., 0., 0., 0., 0., 0.]),\n",
       "  array([0.14, 0.14, 0.16, 0.14, 0.14, 0.14, 0.14]),\n",
       "  -1.0),\n",
       " (array([-0., -0., -0., -0., -0., -0., -0., -0., -0., -0., -0., -0., -0.,\n",
       "         -0., -0., -0., -0., -0., -0., -0., -0., -0., -0., -0., -0., -0.,\n",
       "         -0., -0., -0., -0., -0., -0., -0., -0., -0., -0., -0., -1., -0.,\n",
       "         -0., -0., -0.]),\n",
       "  array([0.15789474, 0.14035088, 0.15789474, 0.12280702, 0.14035088,\n",
       "         0.14035088, 0.14035088]),\n",
       "  1.0),\n",
       " (array([ 0.,  0.,  0.,  0.,  0.,  0.,  0.,  0.,  0.,  0.,  0.,  0.,  0.,\n",
       "          0.,  0.,  0.,  0.,  0.,  0.,  0.,  0.,  0.,  0.,  0.,  0.,  0.,\n",
       "          0.,  0.,  0.,  0.,  0.,  0.,  0.,  0.,  0.,  0., -1.,  1.,  0.,\n",
       "          0.,  0.,  0.]),\n",
       "  array([0.14035088, 0.15789474, 0.14035088, 0.12280702, 0.14035088,\n",
       "         0.15789474, 0.14035088]),\n",
       "  -1.0),\n",
       " (array([-0., -0., -0., -0., -0., -0., -0., -0., -0., -0., -0., -0., -0.,\n",
       "         -0., -0., -0., -0., -0., -0., -0., -0., -0., -0., -0., -0., -0.,\n",
       "         -0., -0., -0., -0., -0., -0., -0., -0., -0., -0.,  1., -1., -0.,\n",
       "         -1., -0., -0.]),\n",
       "  array([0.15789474, 0.14035088, 0.15789474, 0.12280702, 0.14035088,\n",
       "         0.14035088, 0.14035088]),\n",
       "  1.0),\n",
       " (array([ 0.,  0.,  0.,  0.,  0.,  0.,  0.,  0.,  0.,  0.,  0.,  0.,  0.,\n",
       "          0.,  0.,  0.,  0.,  0.,  0.,  0.,  0.,  0.,  0.,  0.,  0.,  0.,\n",
       "          0.,  0.,  0.,  0., -1.,  0.,  0.,  0.,  0.,  0., -1.,  1.,  0.,\n",
       "          1.,  0.,  0.]),\n",
       "  array([0.13793103, 0.17241379, 0.13793103, 0.13793103, 0.12068966,\n",
       "         0.15517241, 0.13793103]),\n",
       "  -1.0),\n",
       " (array([-0., -0., -0., -0., -0., -0., -0., -0., -0., -0., -0., -0., -0.,\n",
       "         -0., -0., -0., -0., -0., -0., -0., -0., -0., -0., -1., -0., -0.,\n",
       "         -0., -0., -0., -0.,  1., -0., -0., -0., -0., -0.,  1., -1., -0.,\n",
       "         -1., -0., -0.]),\n",
       "  array([0.15789474, 0.14035088, 0.15789474, 0.14035088, 0.14035088,\n",
       "         0.14035088, 0.12280702]),\n",
       "  1.0),\n",
       " (array([ 0.,  0.,  0.,  0.,  0.,  0.,  0.,  0.,  0.,  0.,  0.,  0.,  0.,\n",
       "          0.,  0.,  0.,  0.,  0.,  0.,  0.,  0.,  0.,  0.,  1.,  0.,  0.,\n",
       "          0.,  0.,  0.,  0., -1.,  0., -1.,  0.,  0.,  0., -1.,  1.,  0.,\n",
       "          1.,  0.,  0.]),\n",
       "  array([0.14035088, 0.19298246, 0.14035088, 0.12280702, 0.12280702,\n",
       "         0.15789474, 0.12280702]),\n",
       "  -1.0),\n",
       " (array([-0., -0., -0., -0., -0., -0., -0., -0., -0., -0., -0., -0., -0.,\n",
       "         -0., -0., -0., -0., -0., -0., -0., -0., -0., -0., -1., -0., -0.,\n",
       "         -0., -0., -0., -0.,  1., -0.,  1., -0., -0., -0.,  1., -1., -0.,\n",
       "         -1., -1., -0.]),\n",
       "  array([0.10344828, 0.10344828, 0.10344828, 0.36206897, 0.10344828,\n",
       "         0.12068966, 0.10344828]),\n",
       "  1.0),\n",
       " (array([ 0.,  0.,  0.,  0.,  0.,  0.,  0.,  0.,  0.,  0.,  0.,  0.,  0.,\n",
       "          0.,  0.,  0.,  0.,  0.,  0.,  0.,  0.,  0.,  0.,  1.,  0.,  0.,\n",
       "          0.,  0.,  0.,  0., -1.,  0., -1.,  0.,  0.,  0., -1.,  1., -1.,\n",
       "          1.,  1.,  0.]),\n",
       "  array([0.14285714, 0.18571429, 0.14285714, 0.12857143, 0.11428571,\n",
       "         0.15714286, 0.12857143]),\n",
       "  -1.0),\n",
       " (array([-0., -0., -0., -0., -0., -0., -0., -0., -0., -0., -0., -0., -0.,\n",
       "         -0., -0., -0., -0., -0., -0., -0., -0., -0., -0., -1., -0., -0.,\n",
       "         -0., -0., -0., -0.,  1., -0.,  1., -0., -0., -1.,  1., -1.,  1.,\n",
       "         -1., -1., -0.]),\n",
       "  array([0.15254237, 0.15254237, 0.16949153, 0.13559322, 0.15254237,\n",
       "         0.11864407, 0.11864407]),\n",
       "  1.0),\n",
       " (array([ 0.,  0.,  0.,  0.,  0.,  0.,  0.,  0.,  0.,  0.,  0.,  0.,  0.,\n",
       "          0.,  0.,  0.,  0.,  0.,  0.,  0.,  0.,  0.,  0.,  1.,  0.,  0.,\n",
       "          0.,  0.,  0.,  0., -1.,  0., -1., -1.,  0.,  1., -1.,  1., -1.,\n",
       "          1.,  1.,  0.]),\n",
       "  array([0.10714286, 0.08928571, 0.10714286, 0.375     , 0.10714286,\n",
       "         0.10714286, 0.10714286]),\n",
       "  -1.0),\n",
       " (array([-0., -0., -0., -0., -0., -0., -0., -0., -0., -0., -0., -0., -0.,\n",
       "         -0., -0., -0., -0., -0., -0., -0., -0., -0., -0., -1., -0., -0.,\n",
       "         -0., -0., -0., -1.,  1., -0.,  1.,  1., -0., -1.,  1., -1.,  1.,\n",
       "         -1., -1., -0.]),\n",
       "  array([0.01851852, 0.01851852, 0.01851852, 0.94444444, 0.        ,\n",
       "         0.        , 0.        ]),\n",
       "  1.0)]"
      ]
     },
     "execution_count": 26,
     "metadata": {},
     "output_type": "execute_result"
    }
   ],
   "source": [
    "dataset"
   ]
  },
  {
   "cell_type": "code",
   "execution_count": null,
   "metadata": {},
   "outputs": [],
   "source": []
  }
 ],
 "metadata": {
  "kernelspec": {
   "display_name": "Python 3",
   "language": "python",
   "name": "python3"
  },
  "language_info": {
   "codemirror_mode": {
    "name": "ipython",
    "version": 3
   },
   "file_extension": ".py",
   "mimetype": "text/x-python",
   "name": "python",
   "nbconvert_exporter": "python",
   "pygments_lexer": "ipython3",
   "version": "3.8.5"
  }
 },
 "nbformat": 4,
 "nbformat_minor": 4
}
